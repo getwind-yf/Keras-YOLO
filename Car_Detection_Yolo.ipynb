{
 "cells": [
  {
   "cell_type": "code",
   "execution_count": null,
   "metadata": {},
   "outputs": [],
   "source": [
    "import argparse   #argparse \n",
    "import os \n",
    "#os模块是用于访问操作系统功能的模块；使用OS模块提供的接口实现跨平台访问。\n",
    "#os目录操作-增删改查 os.listdir();os.mkdir();os.rmdir();\n",
    "#os.path模块，用来返回文件路径或大小，或者连接目录与文件名或目录\n",
    "import matplotlib.pyplot as plt \n",
    "from matplotlib.pyplot import imshow \n",
    "# Matplotlib是类似Matlab的画图工具；Pyplot模块来画图\n",
    "import scipy.io \n",
    "import scipy.misc\n",
    "#利用scipy的输入输出，来对图像进行操作\n",
    "\n",
    "import numpy as np \n",
    "import pandas as pd \n",
    "\n",
    "import PIL \n",
    "#PIL：Python Imaging Library 图像处理模块\n",
    "#包括Open、Save、format、Mode、Convert、Eval、Merge等等\n",
    "\n",
    "import tensorflow as tf \n",
    "from keras import backend as K \n",
    "#Keras是模型级库，提供高层次的构建模块，但张量乘积和卷积依赖tf后端\n",
    "\n",
    "from keras.layers import Input, Lamda, Conv2D\n",
    "from keras.models import load_model,Model \n",
    "\n",
    "from yolo_utils import read_classes, read_anchors, generate_colors, preprocess_image, draw_boxes, scale_boxes\n",
    "#yolo_utils是自定义的函数，从yolo_utils导入 \n",
    "\n",
    "from yad2k.models.keras_yolo import yolo_head, yolo_boxes_to_coners,preprocess_true_boxes,yolo_loss,yolo_body\n",
    "#yad2k是训练好的模型参数，从文件yad2k.models.keras_yolo导入\n",
    "\n",
    "%matplotlib inline "
   ]
  },
  {
   "cell_type": "code",
   "execution_count": null,
   "metadata": {},
   "outputs": [],
   "source": [
    "def yolo_filter_boxes(box_confidence, boxes, box_class_probs, threshold=.6):\n",
    "        #Step1 \n",
    "        box_scores=box_confidence*box_class_probs  \n",
    "        #Step2\n",
    "        box_classes=K.argmax(box_scores, axis=-1)  #返回最大数值的坐标\n",
    "        box_class_scores=K.max(box_scores, axis=-1)\n",
    "        #Step3 \n",
    "        filtering_mask = box_class_scores >= threshold\n",
    "        #Step4\n",
    "        scores=tf.boolean_mask(box_class_scores,filtering_mask) \n",
    "        boxes=tf.boolean_mask(boxes, filtering_mask) \n",
    "        classes=tf.boolean_mask(box_classes,filtering_mask) \n",
    "        \n",
    "        return scores,boxes,classes "
   ]
  },
  {
   "cell_type": "code",
   "execution_count": null,
   "metadata": {},
   "outputs": [],
   "source": [
    "with tf.Session() as test_a: \n",
    "    box_confidence = tf.random_normal([19,19,5,1], mean=1, stddev=4, seed=1)\n",
    "    boxes = tf.random_normal([19,19,5,4], mean=1, stddev=4, seed=1) \n",
    "    box_class_probs = tf.random_normal([19,19,5,80], mean=1, stddev=4, seed=1) \n",
    "    scores,boxes,classes = yolo_filter_boxes(box_confidence,boxes,box_class_probs, threshold=0.5)\n",
    "    print(\"score[2]=\" + str(scores[2].eval()))\n",
    "    print(\"boxes[2]=\" + str（boxes[2].eval())\n",
    "    print(\"classes[2]=\" + str(classes[2].eval()))\n",
    "    print(\"scores.shape=\" + str(scores.shape)) \n",
    "    print(\"boxes.shape=\" + str(boxes.shape)) \n",
    "    print(\"classes.shape=\" + str(classes.shape)) \n",
    "    "
   ]
  },
  {
   "cell_type": "code",
   "execution_count": null,
   "metadata": {},
   "outputs": [],
   "source": [
    "def iou(box1, box2):\n",
    "    #Calculate the coordinates of the intersection of box1 and box2 \n",
    "    xi1 = max(box1[0], box2[0])\n",
    "    yi1 = max(box1[1], box2[1])\n",
    "    xi2 = min(box1[2], box2[2])\n",
    "    yi2 = min(box1[3], box2[3])\n",
    "    inter_area = (yi2-yi1)*(xi2-xi1) \n",
    "    \n",
    "    #Calculate the Union area by using Formula\n",
    "    box1_area = (box1[2]-box1[0]) * (box1[3]-box1[1])\n",
    "    box2_area = (box2[2]-box2[0]) * (box2[3]-box2[1])\n",
    "    union_area = box1_area + box2_area - inter_area\n",
    "    iou = inter_area / union_area\n",
    "    return iou "
   ]
  },
  {
   "cell_type": "code",
   "execution_count": null,
   "metadata": {},
   "outputs": [],
   "source": [
    "def yolo_non_max_suppression(scores, boxes, classes, max_boxes = 10, iou_threshold=0.5): \n",
    "    max_boxes_tensor = K.variable(max_boxes, dtype='int32') \n",
    "    K.get_session().run(tf.variables_initializer([max_boxes_tensor]))\n",
    "    #Use tf.image.non_max_suppression() to get the list of indices \n",
    "    nms_indices = tf.image.non_max_suppression(boxes,scores,max_boxes,iou_threshold)\n",
    "    \n",
    "    scores=K.gather(scores, nms_indices)\n",
    "    boxes=K.gather(boxes,nms_indices)\n",
    "    classes=K.gather(classes, nms_indices)\n",
    "    \n",
    "    return scores, boxes, classes "
   ]
  },
  {
   "cell_type": "code",
   "execution_count": null,
   "metadata": {},
   "outputs": [],
   "source": [
    "with tf.Session() as test_b: \n",
    "    scores = tf.random_normal([54,],mean=1,stddev=4,seed=1)\n",
    "    boxes = tf.random_normal([54,4],mean=1,stddev=4,seed=1)\n",
    "    classes = tf.random_normal([54,],mean=1,stddev=4,seed=1) \n",
    "    scores, boxes, classes = yolo_non_max_suppression(scores,boxes,classes) \n",
    "    print(\"scores[2] = \"+ str(scores[2].eval()))\n",
    "    print(\"boxes[2]=\" + str(boxes[2].eval()))\n",
    "    print(\"classes[2]=\" + str(classes[2].eval()))\n",
    "    print(\"scores.shape = \" + str(scores.eval().shape)) \n",
    "    print(\"boxes.shape = \" + str(boxes.eval().shape))\n",
    "    print(\"classes.shape = \" + str(classes.eval().shape))"
   ]
  },
  {
   "cell_type": "markdown",
   "metadata": {},
   "source": [
    "Test YOLO pretrained model on images "
   ]
  },
  {
   "cell_type": "code",
   "execution_count": null,
   "metadata": {},
   "outputs": [],
   "source": [
    "#Start by creating a session to start your graph \n",
    "sess = K.get_session() "
   ]
  },
  {
   "cell_type": "code",
   "execution_count": null,
   "metadata": {},
   "outputs": [],
   "source": [
    "class_names = read_classes(\"model_data/coco_classes.txt\")\n",
    "anchors = read_anchors(\"model_data/yolo_anchors.txt\") \n",
    "image_shape = (720., 1280.)\n",
    "\n",
    "yolo_model = load_model(\"model_data/yolo.h5\")\n",
    "yolo_model.summary()\n",
    "\n",
    "#Convert output of the model to usable bounding box tensors \n",
    "yolo_outputs = yolo_head(yolo_model.output, anchors, len(class_names))\n",
    "\n",
    "#Filtering boxes \n",
    "scores,boxes,classes = yolo_eval(yolo_outputs, image_shape)"
   ]
  },
  {
   "cell_type": "code",
   "execution_count": null,
   "metadata": {},
   "outputs": [],
   "source": [
    "def predict(sess,image_file):\n",
    "    image, image_data = preprocess_image(\"images/\" + image_file, model_image_size=(608,608))\n",
    "    out_scores, out_boxes, out_classes = sess.run([scores,boxes,classes],feed_dict={yolo_model.input:image_data,K.learning_phase():0})\n",
    "    \n",
    "    #Print predictions info \n",
    "    print('Found {} boxes for {}'.format(len(out_boxes), image_file))\n",
    "    colors=generate_colors(class_names) \n",
    "    draw_boxes(image, out_scores, out_boxes, out_classes, class_names,colors) \n",
    "    \n",
    "    #Save the predicted bounding box on the image \n",
    "    image.save(os.path.join(\"out\",image_file),quality=90)\n",
    "    \n",
    "    #Display the results in the notebook\n",
    "    output_image = scipy.misc.imread(os.path.join(\"out\",image_file))\n",
    "    imshow(output_image)\n",
    "    \n",
    "    return out_scores, out_boxes, out_classes\n",
    "    "
   ]
  },
  {
   "cell_type": "code",
   "execution_count": null,
   "metadata": {},
   "outputs": [],
   "source": [
    "out_scores, out_boxes, out_classes = predict(sess,\"test.jpg\")"
   ]
  }
 ],
 "metadata": {
  "kernelspec": {
   "display_name": "Python 3",
   "language": "python",
   "name": "python3"
  },
  "language_info": {
   "codemirror_mode": {
    "name": "ipython",
    "version": 3
   },
   "file_extension": ".py",
   "mimetype": "text/x-python",
   "name": "python",
   "nbconvert_exporter": "python",
   "pygments_lexer": "ipython3",
   "version": "3.7.7"
  }
 },
 "nbformat": 4,
 "nbformat_minor": 4
}
